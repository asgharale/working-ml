{
 "cells": [
  {
   "cell_type": "code",
   "execution_count": 1,
   "id": "6a3fc69a-c2a3-4001-8460-ff6540ced331",
   "metadata": {},
   "outputs": [],
   "source": [
    "import numpy as np\n",
    "from sklearn.preprocessing import scale\n",
    "from sklearn.datasets import load_digits\n",
    "from sklearn.cluster import KMeans\n",
    "from sklearn import metrics"
   ]
  },
  {
   "cell_type": "code",
   "execution_count": 9,
   "id": "34ec1d37-6501-48cf-bf84-3a450fd7a1cf",
   "metadata": {},
   "outputs": [
    {
     "name": "stdout",
     "output_type": "stream",
     "text": [
      "1        \t69844\t0.649\t0.693\t0.670\t0.533\t0.667\t0.144\n"
     ]
    }
   ],
   "source": [
    "digits = load_digits()\n",
    "data = scale(digits.data)\n",
    "y = digits.target\n",
    "\n",
    "k = len(np.unique(y))\n",
    "# print(np.unique(y))\n",
    "\n",
    "k = 10\n",
    "samples, features = data.shape\n",
    "\n",
    "def bench_k_means(estimator, name, data):\n",
    "    estimator.fit(data)\n",
    "    print('%-9s\\t%i\\t%.3f\\t%.3f\\t%.3f\\t%.3f\\t%.3f\\t%.3f' \n",
    "        % (\n",
    "            name, estimator.inertia_,\n",
    "            metrics.homogeneity_score(y, estimator.labels_),\n",
    "            metrics.completeness_score(y, estimator.labels_),\n",
    "            metrics.v_measure_score(y, estimator.labels_),\n",
    "            metrics.adjusted_rand_score(y, estimator.labels_),\n",
    "            metrics.adjusted_mutual_info_score(y, estimator.labels_),\n",
    "            metrics.silhouette_score(data, estimator.labels_, metric=\"euclidean\")\n",
    "        ))\n",
    "\n",
    "clf = KMeans(n_clusters=k, init=\"random\", n_init=10)\n",
    "bench_k_means(clf, \"1\", data)\n"
   ]
  }
 ],
 "metadata": {
  "kernelspec": {
   "display_name": "Python 3 (ipykernel)",
   "language": "python",
   "name": "python3"
  },
  "language_info": {
   "codemirror_mode": {
    "name": "ipython",
    "version": 3
   },
   "file_extension": ".py",
   "mimetype": "text/x-python",
   "name": "python",
   "nbconvert_exporter": "python",
   "pygments_lexer": "ipython3",
   "version": "3.12.4"
  }
 },
 "nbformat": 4,
 "nbformat_minor": 5
}
