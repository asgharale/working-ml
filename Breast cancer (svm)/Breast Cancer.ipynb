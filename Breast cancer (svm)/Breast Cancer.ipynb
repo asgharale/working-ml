{
 "cells": [
  {
   "cell_type": "code",
   "execution_count": 10,
   "id": "66b8885b-649e-425e-b80f-61abc00e0446",
   "metadata": {},
   "outputs": [],
   "source": [
    "import numpy as np\n",
    "from sklearn import svm\n",
    "from sklearn import datasets\n",
    "from sklearn.model_selection import train_test_split\n",
    "from sklearn import metrics\n",
    "from sklearn.neighbors import KNeighborsClassifier\n",
    "import pickle\n",
    "\n",
    "df = datasets.load_breast_cancer()\n",
    "\n",
    "classes = ['malignant', 'benign']\n",
    "x = df.data\n",
    "y = df.target\n",
    "\n",
    "\n"
   ]
  },
  {
   "cell_type": "code",
   "execution_count": 11,
   "id": "1438a17f-bcee-41be-b105-c3ab63e6d895",
   "metadata": {},
   "outputs": [
    {
     "name": "stdout",
     "output_type": "stream",
     "text": [
      "0.9186046511627907\n",
      "0.9186046511627907\n"
     ]
    }
   ],
   "source": [
    "x_train, x_test, y_train, y_test = train_test_split(x, y, test_size=0.15)\n",
    "best_clf = 0\n",
    "best_knn = 0\n",
    "for _ in range(100):\n",
    "    clf = svm.SVC(kernel=\"linear\")\n",
    "    clf.fit(x_train, y_train)\n",
    "\n",
    "    knn = KNeighborsClassifier(n_neighbors=9)\n",
    "    knn.fit(x_train, y_train)\n",
    "\n",
    "    clf_predict = clf.predict(x_test)\n",
    "    knn_predict = knn.predict(x_test)\n",
    "\n",
    "    clf_acc = metrics.accuracy_score(y_test, clf_predict)\n",
    "    knn_acc = metrics.accuracy_score(y_test, knn_predict)\n",
    "\n",
    "    if clf_acc > best_clf:\n",
    "        best_clf = clf_acc\n",
    "        with open('clf_model.pkl', 'wb') as f:\n",
    "            pickle.dump(clf ,f)\n",
    "    if knn_acc > best_knn:\n",
    "        best_knn = knn_acc\n",
    "        with open('knn_model.pkl', 'wb') as f:\n",
    "            pickle.dump(knn, f)\n",
    "with open('clf_model.pkl', 'rb') as f:\n",
    "    clf = pickle.load(f)\n",
    "with open('knn_model.pkl', 'rb') as f:\n",
    "    knn = pickle.load(f)\n",
    "\n",
    "clf_predict = clf.predict(x_test)\n",
    "knn_predict = knn.predict(x_test)\n",
    "\n",
    "clf_acc = metrics.accuracy_score(y_test, clf_predict)\n",
    "knn_acc = metrics.accuracy_score(y_test, knn_predict)\n",
    "\n",
    "print(clf_acc)\n",
    "print(knn_acc)"
   ]
  },
  {
   "cell_type": "code",
   "execution_count": null,
   "id": "458df672-f615-43fe-8acc-f0c3c9ec2b19",
   "metadata": {},
   "outputs": [],
   "source": []
  }
 ],
 "metadata": {
  "kernelspec": {
   "display_name": "Python 3 (ipykernel)",
   "language": "python",
   "name": "python3"
  },
  "language_info": {
   "codemirror_mode": {
    "name": "ipython",
    "version": 3
   },
   "file_extension": ".py",
   "mimetype": "text/x-python",
   "name": "python",
   "nbconvert_exporter": "python",
   "pygments_lexer": "ipython3",
   "version": "3.12.4"
  }
 },
 "nbformat": 4,
 "nbformat_minor": 5
}
