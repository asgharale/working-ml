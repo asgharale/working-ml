{
 "cells": [
  {
   "cell_type": "code",
   "execution_count": null,
   "id": "66b8885b-649e-425e-b80f-61abc00e0446",
   "metadata": {},
   "outputs": [],
   "source": [
    "import numpy as np\n",
    "from sklearn import svm\n",
    "from sklearn import datasets\n",
    "from sklearn.model_selection import train_test_split\n",
    "from sklearn import metrics\n",
    "from sklearn.neighbors import KNeighborsClassifier\n",
    "\n",
    "df = datasets.load_breast_cancer()\n",
    "\n",
    "classes = ['malignant', 'benign']\n",
    "x = df.data\n",
    "y = df.target\n",
    "\n",
    "x_train, x_test, y_train, y_test = train_test_split(x, y, test_size=0.15)\n"
   ]
  },
  {
   "cell_type": "code",
   "execution_count": null,
   "id": "1438a17f-bcee-41be-b105-c3ab63e6d895",
   "metadata": {},
   "outputs": [],
   "source": [
    "clf = svm.SVC(kernel=\"linear\")\n",
    "clf.fit(x_train, y_train)\n",
    "\n",
    "knn = KNeighborsClassifier(n_neighbors=9)\n",
    "knn.fit(x_train, y_train)\n",
    "\n",
    "clf_predict = clf.predict(x_test)\n",
    "knn_predict = knn.predict(x_test)\n",
    "\n",
    "clf_acc = metrics.accuracy_score(y_test, clf_predict)\n",
    "knn_acc = metrics.accuracy_score(y_test, knn_predict)\n",
    "\n",
    "print(clf_acc)\n",
    "print(knn_acc)"
   ]
  }
 ],
 "metadata": {
  "kernelspec": {
   "display_name": "Python 3 (ipykernel)",
   "language": "python",
   "name": "python3"
  },
  "language_info": {
   "codemirror_mode": {
    "name": "ipython",
    "version": 3
   },
   "file_extension": ".py",
   "mimetype": "text/x-python",
   "name": "python",
   "nbconvert_exporter": "python",
   "pygments_lexer": "ipython3",
   "version": "3.12.4"
  }
 },
 "nbformat": 4,
 "nbformat_minor": 5
}
